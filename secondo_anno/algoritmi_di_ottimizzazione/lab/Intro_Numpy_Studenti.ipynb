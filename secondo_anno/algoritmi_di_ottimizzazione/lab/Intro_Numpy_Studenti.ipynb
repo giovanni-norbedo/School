{
 "cells": [
  {
   "cell_type": "markdown",
   "metadata": {
    "id": "i2EfxQKMrfvM"
   },
   "source": [
    "# Intro Numpy\n",
    "\n",
    "E' una libreria Python per il calcolo scientifico che permette di ottenere buone performance dal punto di vista computazionale pur mantenendo una sintassi semplice come quella di python."
   ]
  },
  {
   "cell_type": "code",
   "execution_count": 1,
   "metadata": {
    "id": "ZnR6WXp5rV5o"
   },
   "outputs": [],
   "source": [
    "import numpy as np"
   ]
  },
  {
   "cell_type": "markdown",
   "metadata": {
    "id": "pcpYB1fzsr4N"
   },
   "source": [
    "# Numpy Array\n",
    "\n",
    "Alla base di Numpy vi sono gli array Numpy, oggetti che rappresentano array multidimensionali, ottimizzati per il calcolo scientifico.\n",
    "\n",
    "Utilizzare gli array di Numpy consente l'utlizzo di funzioni matematiche scritte in C e spesso semplifica la sintassi."
   ]
  },
  {
   "cell_type": "markdown",
   "metadata": {
    "id": "cX9blX2PuDou"
   },
   "source": [
    "Ipotiziamo di avere due matrici A e B, e di volerne sommare gli elementi uno ad uno"
   ]
  },
  {
   "cell_type": "code",
   "execution_count": 2,
   "metadata": {
    "colab": {
     "base_uri": "https://localhost:8080/"
    },
    "id": "_p6WSfERuDaB",
    "outputId": "bfb943ef-969f-4da7-f8b7-e906da9585fa"
   },
   "outputs": [
    {
     "name": "stdout",
     "output_type": "stream",
     "text": [
      "[[0, 0, 0, 0], [0, 0, 0, 0]]\n"
     ]
    }
   ],
   "source": [
    "A = [[1,2,3,4], [5,6,7,8]]\n",
    "B = [[-1,-2,-3,-4], [-5,-6,-7,-8]]\n",
    "\n",
    "C = [[a + b for a, b in zip(A_i, B_i)] for A_i, B_i in zip(A, B)]\n",
    "print(C)\n",
    "\n",
    "# In Alternativa\n",
    "#C = []\n",
    "#for A_i, B_i in zip(A, B):\n",
    "#  C_i = []\n",
    "#  for a_i, b_i in zip(A_i, B_i):\n",
    "#    C_i.append(a_i + b_i)\n",
    "#  C.append(C_i)\n",
    "#print(C)\n"
   ]
  },
  {
   "cell_type": "code",
   "execution_count": 3,
   "metadata": {
    "colab": {
     "base_uri": "https://localhost:8080/"
    },
    "id": "0Air0ckbuB2Y",
    "outputId": "6bca840f-5855-42cc-fbac-1808ea661b07"
   },
   "outputs": [
    {
     "name": "stdout",
     "output_type": "stream",
     "text": [
      "[[0 0 0 0]\n",
      " [0 0 0 0]]\n"
     ]
    }
   ],
   "source": [
    "A_array = np.array(A)\n",
    "B_array = np.array(B)\n",
    "\n",
    "C_array = A_array + B_array\n",
    "print(C_array)"
   ]
  },
  {
   "cell_type": "markdown",
   "metadata": {
    "id": "7mABPoIkvYBD"
   },
   "source": [
    "E se ora avessi bisogno di lavorare con tensori di 3 dimensioni?"
   ]
  },
  {
   "cell_type": "code",
   "execution_count": 4,
   "metadata": {
    "colab": {
     "base_uri": "https://localhost:8080/"
    },
    "id": "W97kiQKouvH-",
    "outputId": "c774d9b2-4716-495c-c5aa-a683395bd9e8"
   },
   "outputs": [
    {
     "name": "stdout",
     "output_type": "stream",
     "text": [
      "[[[0 0 0]]\n",
      "\n",
      " [[0 0 0]]\n",
      "\n",
      " [[0 0 0]]]\n"
     ]
    }
   ],
   "source": [
    "A_array = np.array([[[1,2,3]], [[4,5,6]], [[7,8,9]]])\n",
    "B_array = np.array([[[-1,-2,-3]], [[-4,-5,-6]], [[-7,-8,-9]]])\n",
    "\n",
    "C_array = A_array + B_array\n",
    "print(C_array)"
   ]
  },
  {
   "cell_type": "markdown",
   "metadata": {
    "id": "ZK0RLiJ4v_n8"
   },
   "source": [
    "Come possiamo vedere, utilizzando numpy non dobbiamo modificare il codice che produce la somma dei tensori. Invece con l'altro metodo avremmo dovuto modificare il codice per considerare la nuova dimensione non presente prima."
   ]
  },
  {
   "cell_type": "markdown",
   "metadata": {
    "id": "itGRwb2QwUat"
   },
   "source": [
    "## Quanto veloce e' numpy rispetto ad un ciclo for in Python?\n",
    "\n",
    "Proviamo a calcolare il prodotto scalare di due vettori"
   ]
  },
  {
   "cell_type": "code",
   "execution_count": 5,
   "metadata": {
    "id": "2t15qXlYyqjj"
   },
   "outputs": [],
   "source": [
    "import time"
   ]
  },
  {
   "cell_type": "code",
   "execution_count": 6,
   "metadata": {
    "id": "cPwkIykNv0ts"
   },
   "outputs": [],
   "source": [
    "l1 = [float(d) for d in range(100000)]\n",
    "l2 = [float(d) for d in range(100000)]\n",
    "l1_array = np.array(l1)\n",
    "l2_array = np.array(l2)"
   ]
  },
  {
   "cell_type": "code",
   "execution_count": 7,
   "metadata": {
    "colab": {
     "base_uri": "https://localhost:8080/"
    },
    "id": "UBH5L24ewmT3",
    "outputId": "6da680d1-c440-418d-caee-776604c9ec17"
   },
   "outputs": [
    {
     "name": "stdout",
     "output_type": "stream",
     "text": [
      "3.78 ms ± 145 μs per loop (mean ± std. dev. of 7 runs, 100 loops each)\n"
     ]
    }
   ],
   "source": [
    "%%timeit\n",
    "s = 0\n",
    "for l1_i, l2_i in zip(l1, l2): s += l1_i * l2_i"
   ]
  },
  {
   "cell_type": "code",
   "execution_count": 8,
   "metadata": {
    "colab": {
     "base_uri": "https://localhost:8080/"
    },
    "id": "goQk1lqPwx9f",
    "outputId": "e90755e7-9bae-4a64-998e-444feb04e0a9"
   },
   "outputs": [
    {
     "name": "stdout",
     "output_type": "stream",
     "text": [
      "13.7 μs ± 2.25 μs per loop (mean ± std. dev. of 7 runs, 100,000 loops each)\n"
     ]
    }
   ],
   "source": [
    "%%timeit\n",
    "s = np.dot(l1_array, l2_array)"
   ]
  },
  {
   "cell_type": "markdown",
   "metadata": {
    "id": "XCg5p_QSNCg-"
   },
   "source": [
    "# Come creare Numpy Array"
   ]
  },
  {
   "cell_type": "markdown",
   "metadata": {
    "id": "sCuTJ3JBNHib"
   },
   "source": [
    "Vi sono diversi modi per creare degli array in Numpy. Se abbiamo il nostro vettore rappresentato in una normale lista possiamo trasformarlo in un numpy array come abbiamo visto negli esempi precedenti."
   ]
  },
  {
   "cell_type": "code",
   "execution_count": 9,
   "metadata": {
    "id": "kT_MckhJNUWY"
   },
   "outputs": [],
   "source": [
    "vec = [1,2,3,4,5]\n",
    "vec_array = np.array(vec)"
   ]
  },
  {
   "cell_type": "code",
   "execution_count": 10,
   "metadata": {
    "colab": {
     "base_uri": "https://localhost:8080/"
    },
    "id": "D_lyHE9Vd8zI",
    "outputId": "cd575344-f36a-4764-9e9a-c2b8383dcb9e"
   },
   "outputs": [
    {
     "data": {
      "text/plain": [
       "array([1, 2, 3, 4, 5])"
      ]
     },
     "execution_count": 10,
     "metadata": {},
     "output_type": "execute_result"
    }
   ],
   "source": [
    "vec_array"
   ]
  },
  {
   "cell_type": "markdown",
   "metadata": {
    "id": "o9yUUXoNtzM6"
   },
   "source": [
    "Spesso e' necessario generare degli array con determinate carattersitche, ad esempio tutti i numeri in un certo range"
   ]
  },
  {
   "cell_type": "code",
   "execution_count": 11,
   "metadata": {
    "colab": {
     "base_uri": "https://localhost:8080/"
    },
    "id": "rsIUQSx_uXQA",
    "outputId": "6840e8c1-cc4d-4c08-90c9-d4d3fd2d3e2b"
   },
   "outputs": [
    {
     "data": {
      "text/plain": [
       "array([0, 1, 2, 3, 4, 5, 6, 7, 8, 9])"
      ]
     },
     "execution_count": 11,
     "metadata": {},
     "output_type": "execute_result"
    }
   ],
   "source": [
    "np.arange(10)"
   ]
  },
  {
   "cell_type": "code",
   "execution_count": 12,
   "metadata": {
    "colab": {
     "base_uri": "https://localhost:8080/"
    },
    "id": "tU1ULmS6uJMf",
    "outputId": "b44dfb96-09fe-478f-d0b1-a27e28e1bd88"
   },
   "outputs": [
    {
     "data": {
      "text/plain": [
       "array([0., 0., 0., 0., 0., 0., 0., 0., 0., 0., 0., 0., 0., 0., 0., 0., 0.,\n",
       "       0., 0., 0., 0., 0., 0., 0., 0., 0., 0., 0., 0., 0., 0., 0., 0., 0.,\n",
       "       0., 0., 0., 0., 0., 0., 0., 0., 0., 0., 0., 0., 0., 0., 0., 0.])"
      ]
     },
     "execution_count": 12,
     "metadata": {},
     "output_type": "execute_result"
    }
   ],
   "source": [
    "np.zeros(50)"
   ]
  },
  {
   "cell_type": "code",
   "execution_count": 13,
   "metadata": {
    "colab": {
     "base_uri": "https://localhost:8080/"
    },
    "id": "zjMEvWJOuKfa",
    "outputId": "7f67f570-3f4e-44e2-cfce-9d4038e27a45"
   },
   "outputs": [
    {
     "data": {
      "text/plain": [
       "array([1., 1., 1., 1., 1.])"
      ]
     },
     "execution_count": 13,
     "metadata": {},
     "output_type": "execute_result"
    }
   ],
   "source": [
    "np.ones(5)"
   ]
  },
  {
   "cell_type": "code",
   "execution_count": 14,
   "metadata": {
    "colab": {
     "base_uri": "https://localhost:8080/"
    },
    "id": "L32AhDjwuZMU",
    "outputId": "940dcd21-351e-4089-bc11-54a745fa2c53"
   },
   "outputs": [
    {
     "data": {
      "text/plain": [
       "array([ 0. ,  2.5,  5. ,  7.5, 10. ])"
      ]
     },
     "execution_count": 14,
     "metadata": {},
     "output_type": "execute_result"
    }
   ],
   "source": [
    "np.linspace(0, 10, 5)"
   ]
  },
  {
   "cell_type": "code",
   "execution_count": 15,
   "metadata": {
    "colab": {
     "base_uri": "https://localhost:8080/"
    },
    "id": "iYxYy2DEOpfk",
    "outputId": "a1bf1a02-99d6-44fd-da63-beaec9e49a30"
   },
   "outputs": [
    {
     "data": {
      "text/plain": [
       "array([0, 0, 0, 0, 0])"
      ]
     },
     "execution_count": 15,
     "metadata": {},
     "output_type": "execute_result"
    }
   ],
   "source": [
    "np.zeros_like(vec_array)"
   ]
  },
  {
   "cell_type": "code",
   "execution_count": 16,
   "metadata": {
    "colab": {
     "base_uri": "https://localhost:8080/"
    },
    "id": "ykRZwC9xOr-u",
    "outputId": "ed2b7c3c-a164-45e1-c4c1-bb7216686a5d"
   },
   "outputs": [
    {
     "data": {
      "text/plain": [
       "array([1, 1, 1, 1, 1])"
      ]
     },
     "execution_count": 16,
     "metadata": {},
     "output_type": "execute_result"
    }
   ],
   "source": [
    "np.ones_like(vec_array)"
   ]
  },
  {
   "cell_type": "markdown",
   "metadata": {
    "id": "l1kBeIS_RAVy"
   },
   "source": [
    "# Accedere ad un Numpy Array\n",
    "Per accedere agli elementi di un array numpy segue le solite regole di python a cui siamo abituati con le liste"
   ]
  },
  {
   "cell_type": "code",
   "execution_count": 17,
   "metadata": {
    "id": "dSvKLy41RWgD"
   },
   "outputs": [
    {
     "data": {
      "text/plain": [
       "array([ 0,  1,  2,  3,  4,  5,  6,  7,  8,  9, 10, 11, 12, 13, 14, 15, 16,\n",
       "       17, 18, 19])"
      ]
     },
     "execution_count": 17,
     "metadata": {},
     "output_type": "execute_result"
    }
   ],
   "source": [
    "a = np.arange(20)\n",
    "a"
   ]
  },
  {
   "cell_type": "markdown",
   "metadata": {
    "id": "OMz6zH06RcPC"
   },
   "source": [
    "Per acceredere all'$i$-esimo elemento utilizziamo la notazione `a[i]`"
   ]
  },
  {
   "cell_type": "code",
   "execution_count": 18,
   "metadata": {
    "colab": {
     "base_uri": "https://localhost:8080/"
    },
    "id": "yPgLxOc6RbzY",
    "outputId": "032611c3-366c-491d-b2e5-be1f628ab86c"
   },
   "outputs": [
    {
     "name": "stdout",
     "output_type": "stream",
     "text": [
      "a = [ 0  1  2  3  4  5  6  7  8  9 10 11 12 13 14 15 16 17 18 19]\n",
      "a[0] = 0\n",
      "a[-1] = 19\n"
     ]
    }
   ],
   "source": [
    "print(f'a = {a}')\n",
    "print(f'a[0] = {a[0]}')\n",
    "print(f'a[-1] = {a[-1]}')"
   ]
  },
  {
   "cell_type": "markdown",
   "metadata": {
    "id": "5yRu6armRv8Z"
   },
   "source": [
    "Possiamo anche utilizzare delle slice, ad esempio per accedere agli elementi dal $i$-esimo al $j$-esimo (escluso) `a[i:j]`"
   ]
  },
  {
   "cell_type": "code",
   "execution_count": 19,
   "metadata": {
    "colab": {
     "base_uri": "https://localhost:8080/"
    },
    "id": "eXLaeatTR8XK",
    "outputId": "47734d6e-0bc2-492b-8c78-17e2c0d1b552"
   },
   "outputs": [
    {
     "name": "stdout",
     "output_type": "stream",
     "text": [
      "a[1:5] = [1 2 3 4]\n",
      "a[1:] = [ 1  2  3  4  5  6  7  8  9 10 11 12 13 14 15 16 17 18 19]\n",
      "a[:-1] = [ 0  1  2  3  4  5  6  7  8  9 10 11 12 13 14 15 16 17 18]\n",
      "a[-10:-2] = [10 11 12 13 14 15 16 17]\n"
     ]
    }
   ],
   "source": [
    "print(f'a[1:5] = {a[1:5]}')\n",
    "print(f'a[1:] = {a[1:]}')\n",
    "print(f'a[:-1] = {a[:-1]}')\n",
    "print(f'a[-10:-2] = {a[-10:-2]}')"
   ]
  },
  {
   "cell_type": "markdown",
   "metadata": {
    "id": "ZJgrqpeVSfTi"
   },
   "source": [
    "E' anche possibile selezionare degli elementi di un array utlizzando delle espressioni booleane, vediamo degli esempi"
   ]
  },
  {
   "cell_type": "code",
   "execution_count": 20,
   "metadata": {
    "colab": {
     "base_uri": "https://localhost:8080/"
    },
    "id": "LFMipozUSruZ",
    "outputId": "1e168285-daad-4ba3-8a36-b9a338020b4d"
   },
   "outputs": [
    {
     "name": "stdout",
     "output_type": "stream",
     "text": [
      "[ 9 16 10  7 17  6 18  1  0 12  8  3  2 19  5 11 15 14  4 13]\n"
     ]
    }
   ],
   "source": [
    "a = np.arange(20)\n",
    "np.random.shuffle(a)\n",
    "print(a)"
   ]
  },
  {
   "cell_type": "code",
   "execution_count": 21,
   "metadata": {
    "colab": {
     "base_uri": "https://localhost:8080/"
    },
    "id": "X45X_YYbS6h5",
    "outputId": "25f11c68-47f0-4f39-8d93-355a32d9b997"
   },
   "outputs": [
    {
     "data": {
      "text/plain": [
       "array([ 9, 16, 10, 17, 18, 12,  8, 19, 11, 15, 14, 13])"
      ]
     },
     "execution_count": 21,
     "metadata": {},
     "output_type": "execute_result"
    }
   ],
   "source": [
    "a[a > 7.5]"
   ]
  },
  {
   "cell_type": "code",
   "execution_count": 22,
   "metadata": {
    "colab": {
     "base_uri": "https://localhost:8080/"
    },
    "id": "pKtItUqRTBEE",
    "outputId": "86961c49-168e-4d2f-8c0d-2e1a6107a612"
   },
   "outputs": [
    {
     "data": {
      "text/plain": [
       "array([9, 8])"
      ]
     },
     "execution_count": 22,
     "metadata": {},
     "output_type": "execute_result"
    }
   ],
   "source": [
    "a[(a > 7.5) & (a < 10)]"
   ]
  },
  {
   "cell_type": "markdown",
   "metadata": {
    "id": "g4XoFDwgTUWn"
   },
   "source": [
    "Come funziona questa cosa?"
   ]
  },
  {
   "cell_type": "code",
   "execution_count": 23,
   "metadata": {
    "colab": {
     "base_uri": "https://localhost:8080/"
    },
    "id": "EJ9ovZ19TWf0",
    "outputId": "c7dbab1a-c907-4003-878a-ec75c67e4c8a"
   },
   "outputs": [
    {
     "name": "stdout",
     "output_type": "stream",
     "text": [
      "b = [ True  True  True False  True False  True False False  True  True False\n",
      " False  True False  True  True  True False  True]\n",
      "c = [ True False False  True False  True False  True  True False  True  True\n",
      "  True False  True False False False  True False]\n",
      "d = [ True False False False False False False False False False  True False\n",
      " False False False False False False False False]\n"
     ]
    }
   ],
   "source": [
    "b = a > 7.5\n",
    "c = a < 10\n",
    "d = (b & c)\n",
    "print(f'b = {b}')\n",
    "print(f'c = {c}')\n",
    "print(f'd = {d}')"
   ]
  },
  {
   "cell_type": "code",
   "execution_count": 24,
   "metadata": {
    "colab": {
     "base_uri": "https://localhost:8080/"
    },
    "id": "hk_gO2ISTqUF",
    "outputId": "c55906c9-de2b-4f29-f0c1-d89f9a39c030"
   },
   "outputs": [
    {
     "data": {
      "text/plain": [
       "array([9, 8])"
      ]
     },
     "execution_count": 24,
     "metadata": {},
     "output_type": "execute_result"
    }
   ],
   "source": [
    "a[d]"
   ]
  },
  {
   "cell_type": "markdown",
   "metadata": {
    "id": "2Bm676Ke1xOt"
   },
   "source": [
    "# Operazioni con Numpy Array"
   ]
  },
  {
   "cell_type": "code",
   "execution_count": 25,
   "metadata": {
    "id": "OYLW9g_f0X7F"
   },
   "outputs": [],
   "source": [
    "a = np.array([1,2,3,4,5])"
   ]
  },
  {
   "cell_type": "markdown",
   "metadata": {
    "id": "Lv6cxpbJ-XUD"
   },
   "source": [
    "Modificare un elemento"
   ]
  },
  {
   "cell_type": "code",
   "execution_count": 26,
   "metadata": {
    "colab": {
     "base_uri": "https://localhost:8080/"
    },
    "id": "TH6YyW1D-Te_",
    "outputId": "d96609be-4aa7-430c-f17f-347b68877016"
   },
   "outputs": [
    {
     "name": "stdout",
     "output_type": "stream",
     "text": [
      "[25  2  3  9  5]\n"
     ]
    }
   ],
   "source": [
    "a[0] = 25\n",
    "a[-2] = 9\n",
    "print(a)"
   ]
  },
  {
   "cell_type": "markdown",
   "metadata": {
    "id": "AkXKN2gt-wFE"
   },
   "source": [
    "Tipicamente le operazioni matematiche su numpy array vengono applicate elemento per elemento"
   ]
  },
  {
   "cell_type": "code",
   "execution_count": 27,
   "metadata": {
    "colab": {
     "base_uri": "https://localhost:8080/"
    },
    "id": "v7aG9QST--y6",
    "outputId": "11013402-8bcd-4b79-cd2b-1908b86cbe1a"
   },
   "outputs": [
    {
     "name": "stdout",
     "output_type": "stream",
     "text": [
      "[50  4  6 18 10]\n"
     ]
    }
   ],
   "source": [
    "b = a * 2\n",
    "print(b)"
   ]
  },
  {
   "cell_type": "code",
   "execution_count": 28,
   "metadata": {
    "colab": {
     "base_uri": "https://localhost:8080/"
    },
    "id": "EuR1Ursi_BZc",
    "outputId": "f45bf281-4cab-446d-cf64-c71ae035d2a5"
   },
   "outputs": [
    {
     "name": "stdout",
     "output_type": "stream",
     "text": [
      "a + b : [75  6  9 27 15]\n",
      "a - b : [-25  -2  -3  -9  -5]\n",
      "a * b : [1250    8   18  162   50]\n",
      "a / b : [0.5 0.5 0.5 0.5 0.5]\n",
      "a ** b: [-3842938066129721103                   16                  729\n",
      "   150094635296999121              9765625]\n",
      "a % b : [25  2  3  9  5]\n",
      "a % b : [25  2  3  9  5]\n"
     ]
    }
   ],
   "source": [
    "print(f'a + b : {a + b }')\n",
    "print(f'a - b : {a - b }')\n",
    "print(f'a * b : {a * b }')\n",
    "print(f'a / b : {a / b }')\n",
    "print(f'a ** b: {a ** b}')\n",
    "print(f'a % b : {a % b }')\n",
    "print(f'a % b : {a % b }')"
   ]
  },
  {
   "cell_type": "markdown",
   "metadata": {
    "id": "bHcEyKmWAT3I"
   },
   "source": [
    "Le precedenti operazioni sono anche definite come funzioni di numpy"
   ]
  },
  {
   "cell_type": "code",
   "execution_count": 29,
   "metadata": {
    "colab": {
     "base_uri": "https://localhost:8080/"
    },
    "id": "rx7JNvAO_V_i",
    "outputId": "e1cd9e73-994d-4c07-8c8e-0c704a01b485"
   },
   "outputs": [
    {
     "name": "stdout",
     "output_type": "stream",
     "text": [
      "np.add(a, b): [75  6  9 27 15]\n",
      "np.subtract(a, b): [-25  -2  -3  -9  -5]\n",
      "np.multiply(a, b): [1250    8   18  162   50]\n",
      "np.divide(a, b): [0.5 0.5 0.5 0.5 0.5]\n",
      "np.power(a, b): [-3842938066129721103                   16                  729\n",
      "   150094635296999121              9765625]\n",
      "np.mod(a, b): [25  2  3  9  5]\n",
      "np.mod(b, a): [0 0 0 0 0]\n"
     ]
    }
   ],
   "source": [
    "print(f'np.add(a, b): {np.add(a, b)}')\n",
    "print(f'np.subtract(a, b): {np.subtract(a, b)}')\n",
    "print(f'np.multiply(a, b): {np.multiply(a, b)}')\n",
    "print(f'np.divide(a, b): {np.divide(a, b)}')\n",
    "print(f'np.power(a, b): {np.power(a, b)}')\n",
    "print(f'np.mod(a, b): {np.mod(a, b)}')\n",
    "print(f'np.mod(b, a): {np.mod(b, a)}')"
   ]
  },
  {
   "cell_type": "markdown",
   "metadata": {
    "id": "Oy4DWCbLDAy3"
   },
   "source": [
    "E molte altre funzioni matematiche sono presenti"
   ]
  },
  {
   "cell_type": "code",
   "execution_count": 30,
   "metadata": {
    "colab": {
     "base_uri": "https://localhost:8080/"
    },
    "id": "kvuBwivK-6DJ",
    "outputId": "0716f9ef-fd50-4738-808e-6cb6075e5ae8"
   },
   "outputs": [
    {
     "name": "stdout",
     "output_type": "stream",
     "text": [
      "np.log(a): [3.21887582 0.69314718 1.09861229 2.19722458 1.60943791]\n",
      "np.sqrt(a): [5.         1.41421356 1.73205081 3.         2.23606798]\n",
      "np.sum(a): 44\n",
      "np.prod(a): 6750\n"
     ]
    }
   ],
   "source": [
    "print(f'np.log(a): {np.log(a)}')\n",
    "print(f'np.sqrt(a): {np.sqrt(a)}')\n",
    "# alcune operazioni possono anche essere applicate su tutti gli elementi del array\n",
    "print(f'np.sum(a): {np.sum(a)}')\n",
    "print(f'np.prod(a): {np.prod(a)}')"
   ]
  },
  {
   "cell_type": "markdown",
   "metadata": {
    "id": "I3P8uuEwUpsw"
   },
   "source": [
    "## Operazioni su array booleani\n",
    "\n",
    "Un'importante proprieta' degli array di valori booleani e' il fatto che i valori `True` e `False` vengono automaticamente convertiti in $1$ e $0$ quando presenti in un'operazione matematica"
   ]
  },
  {
   "cell_type": "code",
   "execution_count": 31,
   "metadata": {
    "id": "A6M3wYCmU-nh"
   },
   "outputs": [],
   "source": [
    "b_array = np.array([True, False, False, False, True, True])"
   ]
  },
  {
   "cell_type": "code",
   "execution_count": 32,
   "metadata": {
    "colab": {
     "base_uri": "https://localhost:8080/"
    },
    "id": "CTTIBln6VGH1",
    "outputId": "acb0fe78-7014-43ee-eda4-b88105edc87a"
   },
   "outputs": [
    {
     "data": {
      "text/plain": [
       "np.int64(3)"
      ]
     },
     "execution_count": 32,
     "metadata": {},
     "output_type": "execute_result"
    }
   ],
   "source": [
    "np.sum(b_array)"
   ]
  },
  {
   "cell_type": "code",
   "execution_count": 33,
   "metadata": {
    "colab": {
     "base_uri": "https://localhost:8080/"
    },
    "id": "F_iAJwsHVNCw",
    "outputId": "5bdb76a1-b1d8-44f8-a256-a1b3dc06da88"
   },
   "outputs": [
    {
     "data": {
      "text/plain": [
       "np.int64(0)"
      ]
     },
     "execution_count": 33,
     "metadata": {},
     "output_type": "execute_result"
    }
   ],
   "source": [
    "np.prod(b_array)"
   ]
  },
  {
   "cell_type": "code",
   "execution_count": 34,
   "metadata": {
    "colab": {
     "base_uri": "https://localhost:8080/"
    },
    "id": "S12taWudVknl",
    "outputId": "aa87c311-4836-469a-afcc-bd70cd49e57d"
   },
   "outputs": [
    {
     "name": "stdout",
     "output_type": "stream",
     "text": [
      "~b_array = [False  True  True  True False False]\n"
     ]
    },
    {
     "data": {
      "text/plain": [
       "np.int64(3)"
      ]
     },
     "execution_count": 34,
     "metadata": {},
     "output_type": "execute_result"
    }
   ],
   "source": [
    "print(f'~b_array = {~b_array}')\n",
    "np.sum(~b_array)"
   ]
  },
  {
   "cell_type": "code",
   "execution_count": 35,
   "metadata": {
    "id": "AGKvjST2VQ7n"
   },
   "outputs": [],
   "source": [
    "c_array = np.array([True, False, True, False, False, True])"
   ]
  },
  {
   "cell_type": "code",
   "execution_count": 36,
   "metadata": {
    "colab": {
     "base_uri": "https://localhost:8080/"
    },
    "id": "-JKirsA9VX42",
    "outputId": "c9407dba-8f0d-4ba8-9969-eeda86c4d074"
   },
   "outputs": [
    {
     "data": {
      "text/plain": [
       "array([ True, False,  True, False,  True,  True])"
      ]
     },
     "execution_count": 36,
     "metadata": {},
     "output_type": "execute_result"
    }
   ],
   "source": [
    "b_array + c_array"
   ]
  },
  {
   "cell_type": "code",
   "execution_count": 37,
   "metadata": {
    "colab": {
     "base_uri": "https://localhost:8080/"
    },
    "id": "mTLIERKLVhfH",
    "outputId": "08ccb86b-d32e-4adb-825a-872dc268b7d6"
   },
   "outputs": [
    {
     "data": {
      "text/plain": [
       "array([ True, False, False, False, False,  True])"
      ]
     },
     "execution_count": 37,
     "metadata": {},
     "output_type": "execute_result"
    }
   ],
   "source": [
    "b_array * c_array"
   ]
  },
  {
   "cell_type": "markdown",
   "metadata": {
    "id": "ErrUDxEqV88z"
   },
   "source": [
    "## Esercizio\n",
    "Un' azienda che produce macchinari agricoli utilizza 27 diversi tipi di materie prime. Il costo unitario di ogni materia prima e' salvato in un numpy array e a seguito di diversi accordi commerciali e variazioni dei prezzi di mercato delle materie le seguenti modifiche devono essere apportate ai prezzi:\n",
    "\n",
    "- la materie numero $3$, $12$ e $15$ hanno subito un rincaro del $5$\\% rispetto al loro prezzo precedente\n",
    "- le materie con un costo unitario superiore ai $15$ euro ora possono essere acquistate a $12$\n",
    "- tra le prime $10$ materie prime, quelle con costo unitario inferiore a $2$ euro possono essere ottenute gratuitamente"
   ]
  },
  {
   "cell_type": "code",
   "execution_count": 38,
   "metadata": {
    "id": "sshZ1jGXXbEB"
   },
   "outputs": [],
   "source": [
    "costi = np.array([14, 8, 9, 1.2, 6, 0.5, 17, 7.7, 2, 8, 9, 5, 6.70, 22, 3.6, 9.99, 1.55])"
   ]
  },
  {
   "cell_type": "code",
   "execution_count": 39,
   "metadata": {
    "id": "CiCm8Od9zmOI"
   },
   "outputs": [
    {
     "data": {
      "text/plain": [
       "array([14.  ,  8.  ,  9.45,  0.  ,  6.  ,  0.  , 12.  ,  7.7 ,  2.  ,\n",
       "        8.  ,  9.  ,  5.  ,  6.7 , 12.  ,  3.6 ,  9.99,  1.55])"
      ]
     },
     "execution_count": 39,
     "metadata": {},
     "output_type": "execute_result"
    }
   ],
   "source": [
    "costi[2] *= 1.05\n",
    "\n",
    "costi[costi > 15] = 12\n",
    "\n",
    "costi[:10][costi[:10] < 2] = 0\n",
    "costi"
   ]
  },
  {
   "cell_type": "markdown",
   "metadata": {
    "id": "O6eI1II_Dt4N"
   },
   "source": [
    "# Lavorare con Array multidimensionali\n",
    "\n",
    "Per definire degli array con piu' dimensioni si utilizza la sintassi che si userebbe per rappresentarli come liste di liste:\n",
    "\n",
    "* `[ ... ]` vettore 1-dimensionale\n",
    "* `[[ ... ], [ ... ]]` vettore 2-dimensionale\n",
    "* `[[[ ... ], .... ], [[ ... ], ... ]]` vettore 3-dimensionale\n",
    "* e cosi' via"
   ]
  },
  {
   "cell_type": "code",
   "execution_count": 40,
   "metadata": {
    "colab": {
     "base_uri": "https://localhost:8080/"
    },
    "id": "1S5-TX8ZDQfr",
    "outputId": "2b53660f-ffe5-4dc1-9d82-c4af36903515"
   },
   "outputs": [
    {
     "name": "stdout",
     "output_type": "stream",
     "text": [
      "A: \n",
      " [[ 1  2  3]\n",
      " [ 4  5  6]\n",
      " [ 7  8  9]\n",
      " [10 11 12]\n",
      " [13 14 15]]\n",
      "\n",
      "shape: (5, 3)\n"
     ]
    }
   ],
   "source": [
    "A = np.array([[1,2,3], [4,5,6], [7,8,9], [10, 11, 12], [13, 14, 15]])\n",
    "print(f'A: \\n {A}\\n\\nshape: {A.shape}')"
   ]
  },
  {
   "cell_type": "markdown",
   "metadata": {
    "id": "8_B_l5pRFItp"
   },
   "source": [
    "Accesso agli elementi"
   ]
  },
  {
   "cell_type": "code",
   "execution_count": 41,
   "metadata": {
    "colab": {
     "base_uri": "https://localhost:8080/"
    },
    "id": "UBahZLb2EzwT",
    "outputId": "5eae204e-2ff2-4481-877d-1ad30828bb3f"
   },
   "outputs": [
    {
     "name": "stdout",
     "output_type": "stream",
     "text": [
      "A[0][0]: \n",
      " 1\n",
      "\n",
      "A[0, 0]: \n",
      " 1\n",
      "\n",
      "A[0]: \n",
      " [1 2 3]\n"
     ]
    }
   ],
   "source": [
    "print(f'A[0][0]: \\n {A[0][0]}\\n')\n",
    "print(f'A[0, 0]: \\n {A[0, 0]}\\n')\n",
    "print(f'A[0]: \\n {A[0]}') # restituisce la prima riga"
   ]
  },
  {
   "cell_type": "markdown",
   "metadata": {
    "id": "k_mkNqCRFcXH"
   },
   "source": [
    "E' possibile accedere a righe, colonne o parti di esse con l'uso delle slice"
   ]
  },
  {
   "cell_type": "code",
   "execution_count": 42,
   "metadata": {
    "colab": {
     "base_uri": "https://localhost:8080/"
    },
    "id": "p6RoOwp1FSYk",
    "outputId": "c1bc296f-6b67-422f-d3fa-1971f1562102"
   },
   "outputs": [
    {
     "name": "stdout",
     "output_type": "stream",
     "text": [
      "A[0, :]: \n",
      "[1 2 3]\n",
      "\n",
      "A[:, 0]: \n",
      "[ 1  4  7 10 13]\n",
      "\n",
      "A[2:4]: \n",
      "[[ 7  8  9]\n",
      " [10 11 12]]\n",
      "\n",
      "A[:, 1:3]: \n",
      "[[ 2  3]\n",
      " [ 5  6]\n",
      " [ 8  9]\n",
      " [11 12]\n",
      " [14 15]]\n",
      "\n",
      "A[2:4, 1:3]: \n",
      "[[ 8  9]\n",
      " [11 12]]\n",
      "\n"
     ]
    }
   ],
   "source": [
    "print(f'A[0, :]: \\n{A[0, :]}\\n')\n",
    "print(f'A[:, 0]: \\n{A[:, 0]}\\n')\n",
    "print(f'A[2:4]: \\n{A[2:4]}\\n')\n",
    "print(f'A[:, 1:3]: \\n{A[:, 1:3]}\\n')\n",
    "print(f'A[2:4, 1:3]: \\n{A[2:4, 1:3]}\\n')"
   ]
  },
  {
   "cell_type": "markdown",
   "metadata": {
    "id": "fFZ0tUmQGi6D"
   },
   "source": [
    "Anche per gli array multidimensionli le funzioni matematiche viste sopra funzionano allo stesso modo"
   ]
  },
  {
   "cell_type": "code",
   "execution_count": 43,
   "metadata": {
    "colab": {
     "base_uri": "https://localhost:8080/"
    },
    "id": "hmXspCsBGiac",
    "outputId": "f9a3fd7b-874b-4c3f-c4cc-c49328e7ad02"
   },
   "outputs": [
    {
     "data": {
      "text/plain": [
       "array([[ 2,  4,  6],\n",
       "       [ 8, 10, 12],\n",
       "       [14, 16, 18],\n",
       "       [20, 22, 24],\n",
       "       [26, 28, 30]])"
      ]
     },
     "execution_count": 43,
     "metadata": {},
     "output_type": "execute_result"
    }
   ],
   "source": [
    "A + A"
   ]
  },
  {
   "cell_type": "code",
   "execution_count": 44,
   "metadata": {
    "colab": {
     "base_uri": "https://localhost:8080/"
    },
    "id": "L76Z8icxitua",
    "outputId": "7a19295f-5b19-49b6-921b-91c2b957a88f"
   },
   "outputs": [
    {
     "data": {
      "text/plain": [
       "np.int64(120)"
      ]
     },
     "execution_count": 44,
     "metadata": {},
     "output_type": "execute_result"
    }
   ],
   "source": [
    "np.sum(A)"
   ]
  },
  {
   "cell_type": "markdown",
   "metadata": {
    "id": "Txn1IdaG2Pi-"
   },
   "source": [
    "Per il prodotto matriciale si puo' utilizzare l'operatore `@`"
   ]
  },
  {
   "cell_type": "code",
   "execution_count": 45,
   "metadata": {
    "id": "7r5ekgrA2Ugn"
   },
   "outputs": [],
   "source": [
    "x = np.array([0.1, 0.2, 0.3])"
   ]
  },
  {
   "cell_type": "code",
   "execution_count": 46,
   "metadata": {
    "colab": {
     "base_uri": "https://localhost:8080/"
    },
    "id": "Giwf-wUm2Z_0",
    "outputId": "4f13b32e-dd81-4e02-c8fd-48ac2d1b40ad"
   },
   "outputs": [
    {
     "data": {
      "text/plain": [
       "array([1.4, 3.2, 5. , 6.8, 8.6])"
      ]
     },
     "execution_count": 46,
     "metadata": {},
     "output_type": "execute_result"
    }
   ],
   "source": [
    "np.matmul(A, x)"
   ]
  },
  {
   "cell_type": "code",
   "execution_count": 47,
   "metadata": {
    "colab": {
     "base_uri": "https://localhost:8080/"
    },
    "id": "gjlonLH42caC",
    "outputId": "03cbc175-9979-4825-c433-5446d69d95f4"
   },
   "outputs": [
    {
     "data": {
      "text/plain": [
       "array([1.4, 3.2, 5. , 6.8, 8.6])"
      ]
     },
     "execution_count": 47,
     "metadata": {},
     "output_type": "execute_result"
    }
   ],
   "source": [
    "A @ x"
   ]
  },
  {
   "cell_type": "markdown",
   "metadata": {
    "id": "GptbGhkgiF0D"
   },
   "source": [
    "Trasposizione di una matrice e diagonale"
   ]
  },
  {
   "cell_type": "code",
   "execution_count": 48,
   "metadata": {
    "colab": {
     "base_uri": "https://localhost:8080/"
    },
    "id": "xkS5_tj8Flnt",
    "outputId": "29ebfe4d-ba6c-4cd6-9d92-c3672e8fd4cd"
   },
   "outputs": [
    {
     "data": {
      "text/plain": [
       "array([[ 1,  4,  7, 10, 13],\n",
       "       [ 2,  5,  8, 11, 14],\n",
       "       [ 3,  6,  9, 12, 15]])"
      ]
     },
     "execution_count": 48,
     "metadata": {},
     "output_type": "execute_result"
    }
   ],
   "source": [
    "A.T"
   ]
  },
  {
   "cell_type": "code",
   "execution_count": 49,
   "metadata": {
    "colab": {
     "base_uri": "https://localhost:8080/"
    },
    "id": "azfgkqFOiO7R",
    "outputId": "8c610f9e-d3ee-436c-e620-a5d1f5c62f81"
   },
   "outputs": [
    {
     "data": {
      "text/plain": [
       "array([1, 5, 9])"
      ]
     },
     "execution_count": 49,
     "metadata": {},
     "output_type": "execute_result"
    }
   ],
   "source": [
    "np.diag(A)"
   ]
  },
  {
   "cell_type": "code",
   "execution_count": 50,
   "metadata": {
    "colab": {
     "base_uri": "https://localhost:8080/"
    },
    "id": "bCvS_f0aikhh",
    "outputId": "18b375bc-2d1b-44ee-be73-e4ba53d848d9"
   },
   "outputs": [
    {
     "data": {
      "text/plain": [
       "array([[1, 0, 0],\n",
       "       [0, 5, 0],\n",
       "       [0, 0, 9]])"
      ]
     },
     "execution_count": 50,
     "metadata": {},
     "output_type": "execute_result"
    }
   ],
   "source": [
    "np.diag(np.diag(A))\n"
   ]
  },
  {
   "cell_type": "markdown",
   "metadata": {
    "id": "3Snp7Ux70KVp"
   },
   "source": [
    "## Caratteristiche di un Numpy Array\n",
    "\n",
    "Creiamo ora un tensore costituito da 3 matrici 2x3"
   ]
  },
  {
   "cell_type": "code",
   "execution_count": 51,
   "metadata": {
    "id": "E2btyzmo0Ojd"
   },
   "outputs": [],
   "source": [
    "B = np.array([[[1,2,3], [1,2,3]], [[4,5,6], [4,5,6]], [[7,8,9], [7,8,9]]])"
   ]
  },
  {
   "cell_type": "code",
   "execution_count": 52,
   "metadata": {
    "colab": {
     "base_uri": "https://localhost:8080/"
    },
    "id": "rjAm874I0W-O",
    "outputId": "c2fb6446-9c2d-41f0-ace8-61322a21d89a"
   },
   "outputs": [
    {
     "name": "stdout",
     "output_type": "stream",
     "text": [
      "[[[1 2 3]\n",
      "  [1 2 3]]\n",
      "\n",
      " [[4 5 6]\n",
      "  [4 5 6]]\n",
      "\n",
      " [[7 8 9]\n",
      "  [7 8 9]]]\n"
     ]
    }
   ],
   "source": [
    "print(B)"
   ]
  },
  {
   "cell_type": "markdown",
   "metadata": {
    "id": "Rn9cK1Ur1mTN"
   },
   "source": [
    "Possiamo visualizzare le seguenti caratteristiche dell'array"
   ]
  },
  {
   "cell_type": "code",
   "execution_count": 53,
   "metadata": {
    "colab": {
     "base_uri": "https://localhost:8080/"
    },
    "id": "Xjo_TPN90jUO",
    "outputId": "9b082aa3-3d52-4527-80db-f4c61fe94c71"
   },
   "outputs": [
    {
     "name": "stdout",
     "output_type": "stream",
     "text": [
      "(3, 2, 3)\n",
      "int64\n",
      "3\n",
      "18\n"
     ]
    }
   ],
   "source": [
    "print(B.shape)\n",
    "print(B.dtype)\n",
    "print(B.ndim)\n",
    "print(B.size)"
   ]
  },
  {
   "cell_type": "markdown",
   "metadata": {
    "id": "9wU3vczBmVuX"
   },
   "source": [
    "## Esercizio\n",
    "Che cosa restituisce `len` quando chiamato su un numpy array?"
   ]
  },
  {
   "cell_type": "code",
   "execution_count": 54,
   "metadata": {
    "id": "_6klBkLknw-t"
   },
   "outputs": [
    {
     "data": {
      "text/plain": [
       "3"
      ]
     },
     "execution_count": 54,
     "metadata": {},
     "output_type": "execute_result"
    }
   ],
   "source": [
    "len(B)"
   ]
  },
  {
   "cell_type": "markdown",
   "metadata": {
    "id": "1wgfwns9ObRc"
   },
   "source": [
    "## Generare matrici"
   ]
  },
  {
   "cell_type": "code",
   "execution_count": 55,
   "metadata": {
    "colab": {
     "base_uri": "https://localhost:8080/"
    },
    "id": "HoPEL6TtOfYo",
    "outputId": "bbf9cfd9-5523-426b-ff3a-a0c1a37e87c6"
   },
   "outputs": [
    {
     "data": {
      "text/plain": [
       "array([[0., 0., 0., 0., 0., 0., 0., 0., 0., 0.],\n",
       "       [0., 0., 0., 0., 0., 0., 0., 0., 0., 0.],\n",
       "       [0., 0., 0., 0., 0., 0., 0., 0., 0., 0.],\n",
       "       [0., 0., 0., 0., 0., 0., 0., 0., 0., 0.],\n",
       "       [0., 0., 0., 0., 0., 0., 0., 0., 0., 0.],\n",
       "       [0., 0., 0., 0., 0., 0., 0., 0., 0., 0.],\n",
       "       [0., 0., 0., 0., 0., 0., 0., 0., 0., 0.],\n",
       "       [0., 0., 0., 0., 0., 0., 0., 0., 0., 0.],\n",
       "       [0., 0., 0., 0., 0., 0., 0., 0., 0., 0.],\n",
       "       [0., 0., 0., 0., 0., 0., 0., 0., 0., 0.]])"
      ]
     },
     "execution_count": 55,
     "metadata": {},
     "output_type": "execute_result"
    }
   ],
   "source": [
    "np.zeros((10, 10))"
   ]
  },
  {
   "cell_type": "code",
   "execution_count": 56,
   "metadata": {
    "colab": {
     "base_uri": "https://localhost:8080/"
    },
    "id": "F5H2ESzcOht9",
    "outputId": "7f6ff830-01c0-4906-f22c-8a52bf74d11c"
   },
   "outputs": [
    {
     "data": {
      "text/plain": [
       "array([[1., 1., 1., 1., 1.],\n",
       "       [1., 1., 1., 1., 1.],\n",
       "       [1., 1., 1., 1., 1.],\n",
       "       [1., 1., 1., 1., 1.],\n",
       "       [1., 1., 1., 1., 1.]])"
      ]
     },
     "execution_count": 56,
     "metadata": {},
     "output_type": "execute_result"
    }
   ],
   "source": [
    "np.ones((5,5))"
   ]
  },
  {
   "cell_type": "code",
   "execution_count": 57,
   "metadata": {
    "colab": {
     "base_uri": "https://localhost:8080/"
    },
    "id": "Oi8aVvfjuMh_",
    "outputId": "2f792a64-b626-41bc-f95f-3c763edf461f"
   },
   "outputs": [
    {
     "data": {
      "text/plain": [
       "array([[9., 9., 9., 9., 9.],\n",
       "       [9., 9., 9., 9., 9.],\n",
       "       [9., 9., 9., 9., 9.],\n",
       "       [9., 9., 9., 9., 9.],\n",
       "       [9., 9., 9., 9., 9.]])"
      ]
     },
     "execution_count": 57,
     "metadata": {},
     "output_type": "execute_result"
    }
   ],
   "source": [
    "np.full((5,5),9.0)"
   ]
  },
  {
   "cell_type": "code",
   "execution_count": 58,
   "metadata": {
    "colab": {
     "base_uri": "https://localhost:8080/"
    },
    "id": "GWaHGaCMuQPr",
    "outputId": "c3f81b33-2ffd-4378-ebb5-af07a19970f8"
   },
   "outputs": [
    {
     "data": {
      "text/plain": [
       "array([[1., 0., 0.],\n",
       "       [0., 1., 0.],\n",
       "       [0., 0., 1.]])"
      ]
     },
     "execution_count": 58,
     "metadata": {},
     "output_type": "execute_result"
    }
   ],
   "source": [
    "np.eye(3)"
   ]
  },
  {
   "cell_type": "markdown",
   "metadata": {
    "id": "YKsYHTrzkzL6"
   },
   "source": [
    "## Accesso ad elementi con maschere booleane\n",
    "\n",
    "E' possibile selezionare elementi di un array che verificano una data condizione"
   ]
  },
  {
   "cell_type": "code",
   "execution_count": 59,
   "metadata": {
    "colab": {
     "base_uri": "https://localhost:8080/"
    },
    "id": "Yphg6eJfk_Ae",
    "outputId": "5cff53e5-4db1-461c-a663-926515bbed6b"
   },
   "outputs": [
    {
     "name": "stdout",
     "output_type": "stream",
     "text": [
      "[[False  True False]\n",
      " [ True False  True]\n",
      " [False  True False]\n",
      " [ True False  True]\n",
      " [False  True False]]\n"
     ]
    }
   ],
   "source": [
    "print(A % 2 == 0)"
   ]
  },
  {
   "cell_type": "code",
   "execution_count": 60,
   "metadata": {
    "colab": {
     "base_uri": "https://localhost:8080/"
    },
    "id": "qsy6WvPemqkM",
    "outputId": "0c5b5da0-0eb5-4526-f6fb-6ea42d4ac41a"
   },
   "outputs": [
    {
     "data": {
      "text/plain": [
       "array([ 2,  4,  6,  8, 10, 12, 14])"
      ]
     },
     "execution_count": 60,
     "metadata": {},
     "output_type": "execute_result"
    }
   ],
   "source": [
    "A[A % 2 == 0]"
   ]
  },
  {
   "cell_type": "markdown",
   "metadata": {
    "id": "AN8drEQ4wDw6"
   },
   "source": [
    "E' anche possibile determinare gli indici degli elementi che verificano una data condizione"
   ]
  },
  {
   "cell_type": "code",
   "execution_count": 61,
   "metadata": {
    "colab": {
     "base_uri": "https://localhost:8080/"
    },
    "id": "DH0wJUwCwIqT",
    "outputId": "d94f9a58-4bee-411d-a140-f2251c82aad6"
   },
   "outputs": [
    {
     "data": {
      "text/plain": [
       "(array([0, 1, 1, 1, 2, 2, 2, 3, 3, 3, 4, 4, 4]),\n",
       " array([2, 0, 1, 2, 0, 1, 2, 0, 1, 2, 0, 1, 2]))"
      ]
     },
     "execution_count": 61,
     "metadata": {},
     "output_type": "execute_result"
    }
   ],
   "source": [
    "np.nonzero(A>2)"
   ]
  },
  {
   "cell_type": "code",
   "execution_count": 62,
   "metadata": {
    "colab": {
     "base_uri": "https://localhost:8080/"
    },
    "id": "DH0wJUwCwIqT",
    "outputId": "d94f9a58-4bee-411d-a140-f2251c82aad6"
   },
   "outputs": [
    {
     "data": {
      "text/plain": [
       "(array([0, 2]), array([3, 3]))"
      ]
     },
     "execution_count": 62,
     "metadata": {},
     "output_type": "execute_result"
    }
   ],
   "source": [
    "test = [[0, 0, 0, 3], [0, 0, 0, 0], [0, 0, 0, 3]]\n",
    "test = np.array(test)\n",
    "np.nonzero(test>2)"
   ]
  },
  {
   "cell_type": "markdown",
   "metadata": {
    "id": "yhxob8VdqB0P"
   },
   "source": [
    "## Funzioni ed assi\n",
    "\n",
    "Quando si lavora con array multidimensionali, molte operazioni possono essere eseguite lungo un dato asse (dimensione) dell' array"
   ]
  },
  {
   "cell_type": "code",
   "execution_count": 63,
   "metadata": {
    "colab": {
     "base_uri": "https://localhost:8080/"
    },
    "id": "UfVPRfJLqY5T",
    "outputId": "3a194975-f7cb-4cc6-f3f5-f4e771ef6144"
   },
   "outputs": [
    {
     "name": "stdout",
     "output_type": "stream",
     "text": [
      "[[ 1  2  3]\n",
      " [ 4  5  6]\n",
      " [ 7  8  9]\n",
      " [10 11 12]\n",
      " [13 14 15]]\n"
     ]
    }
   ],
   "source": [
    "print(A)"
   ]
  },
  {
   "cell_type": "code",
   "execution_count": 64,
   "metadata": {
    "colab": {
     "base_uri": "https://localhost:8080/"
    },
    "id": "l7aE455RqVJp",
    "outputId": "f3bc8193-47c4-4060-b526-e3523a0bc575"
   },
   "outputs": [
    {
     "data": {
      "text/plain": [
       "np.int64(120)"
      ]
     },
     "execution_count": 64,
     "metadata": {},
     "output_type": "execute_result"
    }
   ],
   "source": [
    "np.sum(A, axis=None)"
   ]
  },
  {
   "cell_type": "code",
   "execution_count": 65,
   "metadata": {
    "colab": {
     "base_uri": "https://localhost:8080/"
    },
    "id": "bGvDHF62qNW2",
    "outputId": "2e5d5ba5-e262-46fd-f4e9-3959581d98c4"
   },
   "outputs": [
    {
     "data": {
      "text/plain": [
       "array([ 6, 15, 24, 33, 42])"
      ]
     },
     "execution_count": 65,
     "metadata": {},
     "output_type": "execute_result"
    }
   ],
   "source": [
    "np.sum(A, axis=1)"
   ]
  },
  {
   "cell_type": "code",
   "execution_count": 66,
   "metadata": {
    "colab": {
     "base_uri": "https://localhost:8080/"
    },
    "id": "5VqOusPoqNJr",
    "outputId": "f3fbcba9-6ccc-4a9b-b174-a0824f2eef8b"
   },
   "outputs": [
    {
     "data": {
      "text/plain": [
       "array([35, 40, 45])"
      ]
     },
     "execution_count": 66,
     "metadata": {},
     "output_type": "execute_result"
    }
   ],
   "source": [
    "np.sum(A, axis=0)"
   ]
  },
  {
   "cell_type": "code",
   "execution_count": 91,
   "metadata": {
    "colab": {
     "base_uri": "https://localhost:8080/"
    },
    "id": "CX_smnj3r6Yc",
    "outputId": "8418d629-2aac-4309-89cd-660ab2038896"
   },
   "outputs": [
    {
     "data": {
      "text/plain": [
       "array([7., 8., 9.])"
      ]
     },
     "execution_count": 91,
     "metadata": {},
     "output_type": "execute_result"
    }
   ],
   "source": [
    "np.mean(A, axis=0)"
   ]
  },
  {
   "cell_type": "code",
   "execution_count": 68,
   "metadata": {
    "colab": {
     "base_uri": "https://localhost:8080/"
    },
    "id": "MoQwThKZr8ge",
    "outputId": "da58e287-99ad-40be-a0f0-df50d57855c2"
   },
   "outputs": [
    {
     "data": {
      "text/plain": [
       "array([ 2.,  5.,  8., 11., 14.])"
      ]
     },
     "execution_count": 68,
     "metadata": {},
     "output_type": "execute_result"
    }
   ],
   "source": [
    "np.mean(A, axis=1)"
   ]
  },
  {
   "cell_type": "markdown",
   "metadata": {
    "id": "yJuMcvKqnZnk"
   },
   "source": [
    "# Altre operazioni su array"
   ]
  },
  {
   "cell_type": "markdown",
   "metadata": {
    "id": "eg0xTaxCo5de"
   },
   "source": [
    "Modificare la `shape` di un array"
   ]
  },
  {
   "cell_type": "code",
   "execution_count": 69,
   "metadata": {
    "colab": {
     "base_uri": "https://localhost:8080/"
    },
    "id": "D3lnUxrdnY4m",
    "outputId": "a6f6f48e-5553-4cfe-b78d-c2796ba2b4b1"
   },
   "outputs": [
    {
     "name": "stdout",
     "output_type": "stream",
     "text": [
      "[0 1 2 3 4 5 6 7 8 9]\n"
     ]
    }
   ],
   "source": [
    "a = np.arange(10)\n",
    "print(a)"
   ]
  },
  {
   "cell_type": "code",
   "execution_count": 70,
   "metadata": {
    "colab": {
     "base_uri": "https://localhost:8080/"
    },
    "id": "cKXVQbero-p1",
    "outputId": "ef263b48-6e7b-43dc-b0bb-779ba513b8c9"
   },
   "outputs": [
    {
     "data": {
      "text/plain": [
       "array([[0, 1, 2, 3, 4],\n",
       "       [5, 6, 7, 8, 9]])"
      ]
     },
     "execution_count": 70,
     "metadata": {},
     "output_type": "execute_result"
    }
   ],
   "source": [
    "a.reshape((2, 5))"
   ]
  },
  {
   "cell_type": "markdown",
   "metadata": {
    "id": "L-BO8j7XpiJw"
   },
   "source": [
    "E' possibile utilizzare `np.newaxis` per aggiungere una dimensione ad un array"
   ]
  },
  {
   "cell_type": "code",
   "execution_count": 71,
   "metadata": {
    "colab": {
     "base_uri": "https://localhost:8080/"
    },
    "id": "20CrhrHFpfPw",
    "outputId": "13d6a29d-1a89-4bdd-e86f-832fa8bad888"
   },
   "outputs": [
    {
     "data": {
      "text/plain": [
       "array([[0, 1, 2, 3, 4, 5, 6, 7, 8, 9]])"
      ]
     },
     "execution_count": 71,
     "metadata": {},
     "output_type": "execute_result"
    }
   ],
   "source": [
    "a[np.newaxis, :]"
   ]
  },
  {
   "cell_type": "code",
   "execution_count": 92,
   "metadata": {
    "colab": {
     "base_uri": "https://localhost:8080/"
    },
    "id": "pqdJTKeFpqgH",
    "outputId": "49103ecd-593d-483f-fc57-5784bf29b4aa"
   },
   "outputs": [
    {
     "data": {
      "text/plain": [
       "array([[[1, 2, 3, 4]]])"
      ]
     },
     "execution_count": 92,
     "metadata": {},
     "output_type": "execute_result"
    }
   ],
   "source": [
    "a[ :, np.newaxis]"
   ]
  },
  {
   "cell_type": "markdown",
   "metadata": {
    "id": "SerBmVF2pKYO"
   },
   "source": [
    "Concatenare array con `concatenate`"
   ]
  },
  {
   "cell_type": "code",
   "execution_count": 73,
   "metadata": {
    "id": "lftOjfnLpMXU"
   },
   "outputs": [],
   "source": [
    "a = np.array([[1, 2], [3, 4]])\n",
    "b = np.array([[5, 6]])"
   ]
  },
  {
   "cell_type": "code",
   "execution_count": 74,
   "metadata": {
    "colab": {
     "base_uri": "https://localhost:8080/"
    },
    "id": "KyW-8NK8sb2o",
    "outputId": "46daef2d-3305-472b-84d1-b3a8b608fc95"
   },
   "outputs": [
    {
     "data": {
      "text/plain": [
       "array([1, 2, 3, 4, 5, 6])"
      ]
     },
     "execution_count": 74,
     "metadata": {},
     "output_type": "execute_result"
    }
   ],
   "source": [
    "np.concatenate((a, b), axis=None)"
   ]
  },
  {
   "cell_type": "code",
   "execution_count": 75,
   "metadata": {
    "colab": {
     "base_uri": "https://localhost:8080/"
    },
    "id": "gjJmhRsVsk-9",
    "outputId": "3c2722eb-e1cd-452a-d387-00928cb41d52"
   },
   "outputs": [
    {
     "data": {
      "text/plain": [
       "array([[1, 2],\n",
       "       [3, 4],\n",
       "       [5, 6]])"
      ]
     },
     "execution_count": 75,
     "metadata": {},
     "output_type": "execute_result"
    }
   ],
   "source": [
    "np.concatenate((a, b), axis=0)"
   ]
  },
  {
   "cell_type": "code",
   "execution_count": 76,
   "metadata": {
    "colab": {
     "base_uri": "https://localhost:8080/"
    },
    "id": "ZiKaHpdKsrYE",
    "outputId": "5b80b566-a76c-4a92-e9bc-1f614863507a"
   },
   "outputs": [
    {
     "data": {
      "text/plain": [
       "array([[1, 2, 5],\n",
       "       [3, 4, 6]])"
      ]
     },
     "execution_count": 76,
     "metadata": {},
     "output_type": "execute_result"
    }
   ],
   "source": [
    "np.concatenate((a, b.T), axis=1)"
   ]
  },
  {
   "cell_type": "markdown",
   "metadata": {
    "id": "IUMTChGzszxW"
   },
   "source": [
    "Combinare array con `hstack` e `vstack`"
   ]
  },
  {
   "cell_type": "code",
   "execution_count": 77,
   "metadata": {
    "id": "UcIX17SEs8Os"
   },
   "outputs": [],
   "source": [
    "a = np.array([1,2,3,4])[np.newaxis, :]\n",
    "b = np.array([5,6,7,8])[np.newaxis, :]"
   ]
  },
  {
   "cell_type": "code",
   "execution_count": 78,
   "metadata": {
    "colab": {
     "base_uri": "https://localhost:8080/"
    },
    "id": "UZWAd1OBs-Hx",
    "outputId": "837e4915-d767-4f89-e126-d772d91f64ca"
   },
   "outputs": [
    {
     "data": {
      "text/plain": [
       "array([[1, 2, 3, 4, 5, 6, 7, 8]])"
      ]
     },
     "execution_count": 78,
     "metadata": {},
     "output_type": "execute_result"
    }
   ],
   "source": [
    "np.hstack((a,b))"
   ]
  },
  {
   "cell_type": "code",
   "execution_count": 79,
   "metadata": {
    "colab": {
     "base_uri": "https://localhost:8080/"
    },
    "id": "LLjnsZXItL6n",
    "outputId": "1ba2f54d-0401-427b-cdb0-07644524d000"
   },
   "outputs": [
    {
     "data": {
      "text/plain": [
       "array([[1, 5],\n",
       "       [2, 6],\n",
       "       [3, 7],\n",
       "       [4, 8]])"
      ]
     },
     "execution_count": 79,
     "metadata": {},
     "output_type": "execute_result"
    }
   ],
   "source": [
    "np.hstack((a.T ,b.T))"
   ]
  },
  {
   "cell_type": "code",
   "execution_count": 80,
   "metadata": {
    "colab": {
     "base_uri": "https://localhost:8080/"
    },
    "id": "9u8LSY1ztdKC",
    "outputId": "ab4e49f6-e921-473c-96a3-2c1594529c73"
   },
   "outputs": [
    {
     "data": {
      "text/plain": [
       "array([[1, 2, 3, 4],\n",
       "       [5, 6, 7, 8]])"
      ]
     },
     "execution_count": 80,
     "metadata": {},
     "output_type": "execute_result"
    }
   ],
   "source": [
    "np.vstack((a, b))"
   ]
  },
  {
   "cell_type": "code",
   "execution_count": 81,
   "metadata": {
    "colab": {
     "base_uri": "https://localhost:8080/"
    },
    "id": "B4HtTy69thGr",
    "outputId": "1cba410d-d6f7-4f56-c651-53956d77c407"
   },
   "outputs": [
    {
     "data": {
      "text/plain": [
       "array([[1],\n",
       "       [2],\n",
       "       [3],\n",
       "       [4],\n",
       "       [5],\n",
       "       [6],\n",
       "       [7],\n",
       "       [8]])"
      ]
     },
     "execution_count": 81,
     "metadata": {},
     "output_type": "execute_result"
    }
   ],
   "source": [
    "np.vstack((a.T, b.T))"
   ]
  },
  {
   "cell_type": "markdown",
   "metadata": {
    "id": "3ZFTfd2vuqaZ"
   },
   "source": [
    "## Generare numeri casuali e campionamento"
   ]
  },
  {
   "cell_type": "markdown",
   "metadata": {
    "id": "z5RXEmMFu-dN"
   },
   "source": [
    "Generiamo numeri casuali tra 0 ed 1"
   ]
  },
  {
   "cell_type": "code",
   "execution_count": 82,
   "metadata": {
    "colab": {
     "base_uri": "https://localhost:8080/"
    },
    "id": "bwn9DlUcvBcz",
    "outputId": "c27d899c-8da9-46cd-9656-90c9f3681dbe"
   },
   "outputs": [
    {
     "data": {
      "text/plain": [
       "array([[0.8954369 , 0.87738665],\n",
       "       [0.50882753, 0.41558202],\n",
       "       [0.36824769, 0.97036282]])"
      ]
     },
     "execution_count": 82,
     "metadata": {},
     "output_type": "execute_result"
    }
   ],
   "source": [
    "np.random.random((3,2))"
   ]
  },
  {
   "cell_type": "markdown",
   "metadata": {
    "id": "A7JQb73svEyT"
   },
   "source": [
    "Ora generiamoli da una distribuzione normale"
   ]
  },
  {
   "cell_type": "code",
   "execution_count": 83,
   "metadata": {
    "colab": {
     "base_uri": "https://localhost:8080/"
    },
    "id": "RU7Jo2p5vHtK",
    "outputId": "7c7549ea-8094-46b2-e677-c65d76195fbd"
   },
   "outputs": [
    {
     "data": {
      "text/plain": [
       "array([[-0.36429764, -0.22672004],\n",
       "       [-1.48145152,  0.54412263],\n",
       "       [ 0.45511743, -0.50695508]])"
      ]
     },
     "execution_count": 83,
     "metadata": {},
     "output_type": "execute_result"
    }
   ],
   "source": [
    "np.random.randn(3,2)"
   ]
  },
  {
   "cell_type": "code",
   "execution_count": 84,
   "metadata": {
    "colab": {
     "base_uri": "https://localhost:8080/"
    },
    "id": "4Joa__ikvLEM",
    "outputId": "e5a1e237-7c08-4608-ab40-2916932c4472"
   },
   "outputs": [
    {
     "name": "stdout",
     "output_type": "stream",
     "text": [
      "-0.0027496479859956333 1.01735489890813 1.008640123586272\n"
     ]
    }
   ],
   "source": [
    "c = np.random.randn(10000)\n",
    "print(c.mean(), c.var(), c.std())"
   ]
  },
  {
   "cell_type": "markdown",
   "metadata": {
    "id": "y5ZtZDU6vPtg"
   },
   "source": [
    "Generiamo casualmente dei numeri interi"
   ]
  },
  {
   "cell_type": "code",
   "execution_count": 85,
   "metadata": {
    "colab": {
     "base_uri": "https://localhost:8080/"
    },
    "id": "hPD2gosivSe3",
    "outputId": "7656e338-ff04-45ab-adc7-74ee8ba34739"
   },
   "outputs": [
    {
     "data": {
      "text/plain": [
       "array([[9, 9, 8],\n",
       "       [4, 8, 5],\n",
       "       [7, 3, 5]])"
      ]
     },
     "execution_count": 85,
     "metadata": {},
     "output_type": "execute_result"
    }
   ],
   "source": [
    "np.random.randint(3,10,size=(3,3))"
   ]
  },
  {
   "cell_type": "code",
   "execution_count": 86,
   "metadata": {
    "colab": {
     "base_uri": "https://localhost:8080/"
    },
    "id": "E8XBRx67vU_Y",
    "outputId": "a208fd29-aecb-4ec9-ee64-3bc46c1ad7bb"
   },
   "outputs": [
    {
     "data": {
      "text/plain": [
       "array([[13, 10,  5],\n",
       "       [11, 12,  9],\n",
       "       [ 2, 12, 18]])"
      ]
     },
     "execution_count": 86,
     "metadata": {},
     "output_type": "execute_result"
    }
   ],
   "source": [
    "np.random.randint(20,size=(3,3))"
   ]
  },
  {
   "cell_type": "markdown",
   "metadata": {
    "id": "icNo_lyRvac7"
   },
   "source": [
    "E' anche possibile campionare dei numeri da una sequenza con e senza reinserimento"
   ]
  },
  {
   "cell_type": "code",
   "execution_count": 87,
   "metadata": {
    "colab": {
     "base_uri": "https://localhost:8080/"
    },
    "id": "ZbZPJIdIvnTp",
    "outputId": "fb1dee55-6ed6-4f09-f262-4302b1a731a8"
   },
   "outputs": [
    {
     "data": {
      "text/plain": [
       "array([4, 0, 2])"
      ]
     },
     "execution_count": 87,
     "metadata": {},
     "output_type": "execute_result"
    }
   ],
   "source": [
    "np.random.choice(7, replace=False, size=3)"
   ]
  },
  {
   "cell_type": "code",
   "execution_count": 88,
   "metadata": {
    "colab": {
     "base_uri": "https://localhost:8080/"
    },
    "id": "SdgKXsvkvpvj",
    "outputId": "237470d6-ecdd-4bdd-e1a9-b6913a7eba57"
   },
   "outputs": [
    {
     "data": {
      "text/plain": [
       "array([3, 3, 2, 2, 3, 4, 4, 1])"
      ]
     },
     "execution_count": 88,
     "metadata": {},
     "output_type": "execute_result"
    }
   ],
   "source": [
    "np.random.choice([1,2,3,4], size=8)"
   ]
  },
  {
   "cell_type": "markdown",
   "metadata": {
    "id": "uIMSu0Wj7qI4"
   },
   "source": [
    "# Esercizi"
   ]
  },
  {
   "cell_type": "markdown",
   "metadata": {
    "id": "3njuVq85ATob"
   },
   "source": [
    "## 1. Modificare la funzione obiettivo di un problema di ottimizzazione\n",
    "\n",
    "Un stabilimento di produzione presenta al suo interno 200 diverse postazioni di lavorazione. Nello stabilimento vengono assemblati 1000 tipi diversi di prodotti. Per ogni prodotto e' noto il tempo di lavorazione (in ore) richiesto in ogni postazione ed il costo all'ora di ogni postazione di lavorazione. Tuttavia, per ridurre i tempi di produzione, l'azienda decide di assegnare le lavorazioni che richiedono piu' di 5 ore ad una ditta esterna ad un costo forfettario di 5 euro per ogni lavorazione.\n",
    "\n",
    "Modificare il calcolo del costo di produzione ogni prodotto in modo tale da tenere in considerazione questo fatto."
   ]
  },
  {
   "cell_type": "markdown",
   "metadata": {
    "id": "SHM8LAvsHRHC"
   },
   "source": [
    "Generiamo casualmente la matrice dei tempi di lavorazione per ogni prodotto ed il costo orario per ogni postazione"
   ]
  },
  {
   "cell_type": "code",
   "execution_count": 127,
   "metadata": {
    "id": "nPWevct8HXv6"
   },
   "outputs": [
    {
     "name": "stdout",
     "output_type": "stream",
     "text": [
      "[[18 27 18 ... 35 32  3]\n",
      " [18 27  6 ... 35 40  4]\n",
      " [30 27 30 ...  2 16  1]\n",
      " ...\n",
      " [18 30 24 ...  8 16 40]\n",
      " [18 30  6 ...  6 35 40]\n",
      " [40 18 30 ...  4 32 35]]\n"
     ]
    }
   ],
   "source": [
    "postazioni = 200\n",
    "prodotti = 1000\n",
    "\n",
    "np.random.seed(1)\n",
    "\n",
    "costi_postazioni = np.random.randint(1, 10, postazioni)\n",
    "\n",
    "ore_prodotto_x_postazione = np.random.randint(1, 9, (prodotti, postazioni))\n",
    "\n",
    "costi_prodotto_x_postazione = ore_prodotto_x_postazione * costi_postazioni\n",
    "\n",
    "costi_prodotto_x_postazione[ore_prodotto_x_postazione > 5] = 5 * ore_prodotto_x_postazione[ore_prodotto_x_postazione > 5]\n",
    "\n",
    "print(costi_prodotto_x_postazione)\n",
    "\n",
    "# costi_prodotti = np.sum(ore_prodotto_x_postazione * costi_postazioni, axis=1)"
   ]
  },
  {
   "cell_type": "markdown",
   "metadata": {
    "id": "hjDQ88pe7tZq"
   },
   "source": [
    "## 2. Verificare che una soluzione rispetti i vincoli di un problema lineare\n",
    "\n",
    "Si ipotizzi che, per un dato problema di programmazione lineare con 10000 variabili vi siano 20000 vincoli. Generare casualmente la matrice ed il vettore che rappresentano i vincoli e poi generare una soluzione per il problema. Verficare se la soluzione rispetta tutti i vincoli."
   ]
  },
  {
   "cell_type": "code",
   "execution_count": 129,
   "metadata": {
    "id": "ETkvU4ZhoHBa"
   },
   "outputs": [
    {
     "name": "stdout",
     "output_type": "stream",
     "text": [
      "False\n"
     ]
    }
   ],
   "source": [
    "\n",
    "variabili = 10000\n",
    "vincoli = 20000\n",
    "\n",
    "A = np.random.rand(vincoli, variabili)\n",
    "b = np.random.rand(vincoli)\n",
    "\n",
    "x = np.random.rand(variabili)\n",
    "\n",
    "print(np.all(np.dot(A, x) <= b))\n",
    "\n"
   ]
  }
 ],
 "metadata": {
  "colab": {
   "provenance": []
  },
  "kernelspec": {
   "display_name": "Python 3 (ipykernel)",
   "language": "python",
   "name": "python3"
  },
  "language_info": {
   "codemirror_mode": {
    "name": "ipython",
    "version": 3
   },
   "file_extension": ".py",
   "mimetype": "text/x-python",
   "name": "python",
   "nbconvert_exporter": "python",
   "pygments_lexer": "ipython3",
   "version": "3.11.2"
  }
 },
 "nbformat": 4,
 "nbformat_minor": 4
}
